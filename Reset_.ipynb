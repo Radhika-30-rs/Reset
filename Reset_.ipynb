{
  "nbformat": 4,
  "nbformat_minor": 0,
  "metadata": {
    "colab": {
      "provenance": []
    },
    "kernelspec": {
      "name": "python3",
      "display_name": "Python 3"
    },
    "language_info": {
      "name": "python"
    }
  },
  "cells": [
    {
      "cell_type": "markdown",
      "source": [
        "Ques 1-**What is a RESTful API**\n",
        "\n",
        "Answer A RESTful API (Representational State Transfer API) is a type of web API that follows the principles of REST architecture to allow communication between clients (like web browsers or mobile apps) and servers over the internet, typically using HTTP."
      ],
      "metadata": {
        "id": "gYSM-zPe2nqM"
      }
    },
    {
      "cell_type": "markdown",
      "source": [
        "ques 2-**Explain the concept of API specification**\n",
        "\n",
        "Answer-The concept of an API specification refers to a precise, structured description of how an API works. It defines the rules, endpoints, inputs, and outputs that both developers and systems can rely on to interact with the API consistently and correctly.\n",
        "\n"
      ],
      "metadata": {
        "id": "az8xynUo28fz"
      }
    },
    {
      "cell_type": "markdown",
      "source": [
        "ques 3-**M What is Flask, and why is it popular for building APIs?**\n",
        "\n",
        "Answer-Flask is a lightweight web framework written in Python. It's designed to help developers build web applications and APIs quickly and with minimal code. Flask follows the WSGI (Web Server Gateway Interface) standard and is based on the Werkzeug toolkit and Jinja2 templating engine.\n",
        "\n",
        "1. Simplicity and Minimalism\n",
        "Flask provides the core tools needed to build an API without unnecessary complexity.\n",
        "\n",
        "You can start with a basic script and scale up as needed.\n",
        "\n",
        "2. Flexibility\n",
        "\n",
        "Flask doesn’t enforce a specific project structure or tools.\n",
        "\n",
        "Developers are free to choose their database, authentication method, and other components."
      ],
      "metadata": {
        "id": "IU7J3i1D3UoW"
      }
    },
    {
      "cell_type": "markdown",
      "source": [
        "ques 4 -**What is routing in Flask**\n",
        "\n",
        "Routing in Flask is the process of mapping URLs (web addresses) to specific functions in your application. These functions are called view functions, and they define what happens when a user visits a particular URL.\n",
        "\n",
        "In simpler terms, routing determines \"what code should run when a specific URL is requested.\"\n",
        "\n"
      ],
      "metadata": {
        "id": "bx-ZZmYu3s7j"
      }
    },
    {
      "cell_type": "markdown",
      "source": [
        "ques 5-**How do you create a simple Flask application**\n",
        "\n",
        "Answer-Step 1: Install Flask\n",
        "In your terminal or command prompt, run:\n",
        "\n",
        "pip install Flask\n",
        "\n",
        " Step 2: Create Your App File\n",
        "Create a file named app.py and write this code:\n",
        "\n",
        "from flask import Flask\n",
        "\n",
        "app = Flask(__name__)\n",
        "\n",
        "@app.route('/')\n",
        "def home():\n",
        "    return 'Hello, Flask!'\n",
        "\n",
        "    if __name__ == '__main__':\n",
        "    app.run(debug=True)"
      ],
      "metadata": {
        "id": "J8WLUvA34ARg"
      }
    },
    {
      "cell_type": "markdown",
      "source": [
        "ques6-**What are HTTP methods used in RESTful APIs**\n",
        "\n",
        "Answer-In RESTful APIs, HTTP methods define the type of operation the client wants to perform on a resource. Each method corresponds to a specific action."
      ],
      "metadata": {
        "id": "a-dZpG-a4ksE"
      }
    },
    {
      "cell_type": "markdown",
      "source": [
        "ques 7-**What is the purpose of the @app.route() decorator in Flask**\n",
        "\n",
        "Answer-In Flask, the @app.route() decorator is used to bind a URL path to a Python function—this function is called a view function and determines what response should be sent when a client accesses that URL.\n",
        "\n",
        "✅ Main Purpose:\n",
        "@app.route() maps a URL to a function.\n",
        "When a user visits a specific URL, Flask uses the route to determine which function to call and what to return.\n",
        "\n"
      ],
      "metadata": {
        "id": "vIWIXJ_j47B6"
      }
    },
    {
      "cell_type": "markdown",
      "source": [
        "ques 8-**What is the difference between GET and POST HTTP methods**\n",
        "\n",
        "Answer-Aspect\tGET\tPOST\n",
        "Purpose\tRetrieve data from the server.\tSubmit data to the server.\n",
        "Visibility\tParameters are sent in the URL (query string).\tParameters are sent in the body of the request.\n",
        "Idempotent\tYes — multiple identical requests will return the same result.\tNo — repeated requests may create or modify data.\n",
        "Caching\tCan be cached by the browser or intermediary systems (e.g., proxies).\tUsually not cached.\n",
        "Data Length\tLimited by the length of the URL (typically around 2000 characters).\tCan send large amounts of data, including files.\n",
        "Security\tLess secure — parameters are visible in the URL (e.g., http://example.com?user=alice).\tMore secure — parameters are not visible in the URL.\n",
        "Usage\tUsed for retrieving data (e.g., fetching a page or search results).\tUsed for sending data (e.g., form submissions, creating resources).\n"
      ],
      "metadata": {
        "id": "LC-BOhNI5HgE"
      }
    },
    {
      "cell_type": "markdown",
      "source": [
        "ques 9-** How do you handle errors in Flask APIs**\n",
        "\n",
        "Answer-In Flask, handling errors is essential to ensure your application is robust, user-friendly, and can provide meaningful feedback when something goes wrong. Flask offers various methods to handle errors, from returning custom error messages for specific routes to global error handling.\n",
        "\n",
        "1. Handling Errors for Specific Routes\n",
        "You can define specific error handling logic within your view functions. For instance, if you expect certain errors, you can catch them and return custom responses.\n",
        "\n",
        "from flask import Flask, jsonify\n",
        "\n",
        "app = Flask(__name__)\n",
        "\n",
        "@app.route('/user/<int:user_id>')\n",
        "def get_user(user_id):\n",
        "    users = {1: \"Alice\", 2: \"Bob\"}\n",
        "    user = users.get(user_id)\n",
        "    if not user:\n",
        "        return jsonify({\"error\": \"User not found\"}), 404\n",
        "    return jsonify({\"user_id\": user_id, \"name\": user})\n",
        "\n",
        "if __name__ == '__main__':\n",
        "    app.run(debug=True)"
      ],
      "metadata": {
        "id": "4DWeWeur5Zty"
      }
    },
    {
      "cell_type": "markdown",
      "source": [
        "ques  10-**How do you connect Flask to a SQL database**\n",
        "\n",
        "Answer-Flask is a lightweight framework, and while it doesn’t come with built-in database support, you can easily connect it to SQL databases using various libraries. One of the most common approaches is to use SQLAlchemy, an Object Relational Mapper (ORM), which simplifies database interactions in Python.\n",
        "\n",
        "1. Install Flask-SQLAlchemy\n",
        "First, you need to install Flask-SQLAlchemy, which is an extension for Flask that integrates SQLAlchemy with your app.\n",
        "\n",
        "\n",
        "pip install Flask-SQLAlchemy\n",
        "\n",
        "2.  Setup the Flask Application\n",
        "In your app.py, configure your app to connect to a SQL database. Here’s how you can set it up for a SQLite database (but it works for other SQL databases like PostgreSQL or MySQL as well).\n",
        "\n",
        "from flask import Flask\n",
        "from flask_sqlalchemy import SQLAlchemy\n",
        "\n",
        "app = Flask(__name__)\n",
        "\n",
        "# Database configuration (SQLite in this case)\n",
        "app.config['SQLALCHEMY_DATABASE_URI'] = 'sqlite:///mydatabase.db'  # SQLite URI\n",
        "app.config['SQLALCHEMY_TRACK_MODIFICATIONS'] = False  # Disable track modifications to save resources\n",
        "\n",
        "# Initialize the SQLAlchemy object\n",
        "db = SQLAlchemy(app)\n"
      ],
      "metadata": {
        "id": "DoWBur5n5z8i"
      }
    },
    {
      "cell_type": "markdown",
      "source": [
        "ques 11-**What is the role of Flask-SQLAlchemy**\n",
        "\n",
        "Answer-Object Relational Mapping (ORM)\n",
        "\n",
        "Flask-SQLAlchemy allows you to use Python classes to represent database tables.\n",
        "\n",
        "You define your database schema as Python objects (models), and Flask-SQLAlchemy automatically converts them into SQL statements for interacting with the database.\n",
        "\n",
        "This abstracts away much of the raw SQL syntax, making it easier to interact with the database using Python.\n",
        "\n",
        "2.Database Integration\n",
        "\n",
        "It provides easy integration with SQL databases like SQLite, PostgreSQL, MySQL, and Oracle.\n",
        "\n",
        "You simply configure the connection string (SQLALCHEMY_DATABASE_URI) in the Flask app, and it handles database connections automatically.\n",
        "\n",
        "\n"
      ],
      "metadata": {
        "id": "I8YbDjoE6Ptc"
      }
    },
    {
      "cell_type": "markdown",
      "source": [
        "ques 12-**M What are Flask blueprints, and how are they useful**\n",
        "\n",
        "Answer-Flask Blueprints are a powerful feature that allows you to organize and structure your Flask application into multiple components or modules, making it easier to scale, maintain, and manage large applications.\n",
        "\n",
        "\n",
        ". Organizing Code for Scalability\n",
        "Modularization: As Flask applications grow, managing a single file with all the routes, views, and logic can become overwhelming. Flask Blueprints help split your app into smaller, modular components, each handling specific functionality (e.g., authentication, blog management, admin dashboard).\n",
        "\n",
        "Separation of Concerns: Blueprints allow you to separate different parts of the application, which helps in keeping each part focused on a single responsibility. For example:\n",
        "\n",
        "One Blueprint for user authentication (auth)\n",
        "\n",
        "One Blueprint for blog post management (blog)\n",
        "\n",
        "One Blueprint for the admin panel (admin)\n",
        "\n",
        "This results in a cleaner, more maintainable codebase.\n",
        "\n",
        "2. Improving Code Reusability\n",
        "Reusable Modules: Blueprints allow you to define routes, views, and other related components in separate modules, making it easy to reuse them across different Flask projects. For example, you can reuse the authentication module across multiple applications without duplicating code.\n",
        "\n",
        "Independent Development: Teams or developers can work on different parts of the application (e.g., blog feature, user management) independently, and then combine them when needed.\n",
        "\n",
        "3. Enhancing Maintainability\n",
        "Easier Updates: When your application grows, updating a single monolithic codebase can become difficult and error-prone. Blueprints allow you to update or modify one part of the application without affecting others. For instance, if you need to change the routes related to the blog feature, you can do so without interfering with the auth feature.\n",
        "\n",
        "Testing: With each Blueprint encapsulating a feature or functionality, testing becomes easier. You can isolate and test specific features independently, making debugging and testing faster and more efficient.\n",
        "\n",
        "4. Supporting Collaboration\n",
        "Team Collaboration: In large teams, different developers can focus on different Blueprints. For example:\n",
        "\n",
        "One developer can work on the user Blueprint (user registration, login).\n",
        "\n",
        "Another developer can work on the blog Blueprint (CRUD for posts).\n",
        "\n"
      ],
      "metadata": {
        "id": "o_5VdDPc6vUF"
      }
    },
    {
      "cell_type": "markdown",
      "source": [
        "ques 13-**What is the purpose of Flask's request object**\n",
        "\n",
        "Answer-Key Purposes of Flask's request Object\n",
        "Accessing Form Data:\n",
        "\n",
        "The request object allows you to access form data sent via POST requests. This is typically used for handling user-submitted data from HTML forms.\n",
        "\n",
        "You can access form data using request.form, which returns a dictionary-like object.\n",
        "\n",
        "python\n",
        "Copy\n",
        "Edit\n",
        "@app.route('/submit', methods=['POST'])\n",
        "def submit_form():\n",
        "    username = request.form['username']\n",
        "    password = request.form['password']\n",
        "    return f'Username: {username}, Password: {password}'\n",
        "This would retrieve the username and password fields from the form submitted by the user.\n",
        "\n",
        "Retrieving Query Parameters:\n",
        "\n",
        "The request object allows you to access query parameters sent in the URL of GET requests (e.g., /search?query=python).\n",
        "\n",
        "You can retrieve query parameters using request.args, which behaves like a dictionary.\n",
        "\n",
        "python\n",
        "Copy\n",
        "Edit\n",
        "@app.route('/search', methods=['GET'])\n",
        "def search():\n",
        "    query = request.args.get('query', '')\n",
        "    return f'Searching for: {query}'\n",
        "In this case, request.args.get('query') would fetch the value of the query parameter from the URL.\n",
        "\n",
        "Accessing URL Parameters:\n",
        "\n",
        "Flask routes can include dynamic URL parameters, and you can access these using the request.view_args attribute, which holds the captured parameters.\n",
        "\n",
        "\n",
        "@app.route('/user/<int:user_id>')\n",
        "def user_profile(user_id):\n",
        "    return f'User ID: {user_id}'\n",
        "Here, user_id is a URL parameter, and Flask will automatically capture it, allowing you to use it directly in the function.\n",
        "\n",
        "Handling JSON Data:\n",
        "\n",
        "If the client sends a JSON payload in the body of a POST request, you can access it using request.get_json().\n",
        "\n",
        "This is useful for working with APIs, where the client might send data as JSON.\n",
        "\n",
        "@app.route('/api/data', methods=['POST'])\n",
        "def api_data():\n",
        "    data = request.get_json()  # Parse incoming JSON data\n",
        "    name = data['name']\n",
        "    return f'Hello, {name}!'\n"
      ],
      "metadata": {
        "id": "yhRIeQzl7QXE"
      }
    },
    {
      "cell_type": "markdown",
      "source": [
        "ques 14-How do you create a RESTful API endpoint using Flask?\n",
        "\n",
        "Answer-Creating a RESTful API endpoint in Flask involves defining routes that handle HTTP requests (such as GET, POST, PUT, DELETE) and returning appropriate responses in a structured format, typically JSON. Here’s a step-by-step guide on how to create a simple RESTful API endpoint using Flask.\n",
        "\n",
        "🛠 Steps to Create a RESTful API Endpoint in Flask\n",
        "1. Set Up Flask\n",
        "First, you need to install Flask if you haven’t already:\n",
        "\n",
        "pip install Flask\n",
        "\n",
        "2. Create a Basic Flask Application\n",
        "Start by creating a basic Flask application file (e.g., app.py).\n",
        "from flask import Flask, jsonify, request\n",
        "\n",
        "app = Flask(__name__)\n",
        "\n",
        "# Sample data for demonstration\n",
        "users = [\n",
        "    {\"id\": 1, \"name\": \"John Doe\", \"email\": \"john@example.com\"},\n",
        "    {\"id\": 2, \"name\": \"Jane Smith\", \"email\": \"jane@example.com\"}\n",
        "]\n",
        "\n",
        "if __name__ == '__main__':\n",
        "    app.run(debug=True)"
      ],
      "metadata": {
        "id": "PcR3-ZUs7sqi"
      }
    },
    {
      "cell_type": "markdown",
      "source": [
        "ques 15-**What is the purpose of Flask's jsonify() function**\n",
        "\n",
        "Answer-Flask's jsonify() function is used to convert Python data structures (like dictionaries or lists) into JSON format and return them as HTTP responses with the correct Content-Type header. It ensures that the response is properly formatted as JSON, which is essential for building RESTful APIs.\n",
        "\n",
        "In simple terms, jsonify() helps you convert Python objects (e.g., dictionaries, lists) into JSON responses that can be sent to the client (usually a web browser or another service). JSON is a standard format for exchanging data between a client and a server, and jsonify() ensures that the response complies with this standard."
      ],
      "metadata": {
        "id": "yQxo8QFu8Bwb"
      }
    },
    {
      "cell_type": "markdown",
      "source": [
        "ques 16-**Explain Flask’s url_for() function**\n",
        "\n",
        "Answer-Flask's url_for() function is a utility that helps generate the URL for a specific endpoint in your application, based on the function name (view function) and any arguments you provide. It is extremely useful for building URLs dynamically in your templates or views, rather than hardcoding them.\n",
        "\n",
        "The main advantage of using url_for() is that it ensures URLs are generated correctly, even if the structure of your application changes, making your application more maintainable and flexible."
      ],
      "metadata": {
        "id": "oa7KRjgC8PlL"
      }
    },
    {
      "cell_type": "markdown",
      "source": [
        "ques 17-**How does Flask handle static files (CSS, JavaScript, etc.)**\n",
        "\n",
        "Answer-Flask automatically serves files from the static folder without requiring you to write any additional code for basic use. Here's how it works:\n",
        "\n",
        "Default Static Folder: By default, Flask looks for static files in a folder called static. This folder must reside in the root directory of your project.\n",
        "\n",
        "Example folder structure:\n",
        "\n",
        "graphql\n",
        "Copy\n",
        "Edit\n",
        "your_project/\n",
        "├── app.py              # Main Flask application\n",
        "├── static/             # Folder for static files\n",
        "│   ├── css/            # CSS files\n",
        "│   ├── js/             # JavaScript files\n",
        "│   └── images/         # Image files\n",
        "└── templates/          # Folder for HTML templates\n",
        "\n",
        "Accessing Static Files:\n",
        "Flask provides an easy way to access static files through the /static URL path. Any file placed in the static folder can be accessed via a URL like:\n",
        "/static/filename"
      ],
      "metadata": {
        "id": "rAqfl4go8h6b"
      }
    },
    {
      "cell_type": "markdown",
      "source": [
        "ques 18-**What is an API specification, and how does it help in building a Flask API**\n",
        "\n",
        "Answer-An API specification is a formal document or contract that defines how an API should behave. It outlines the structure of the API, including the endpoints, HTTP methods, request and response formats, authentication methods, error handling, and other details essential for interacting with the API.\n",
        "\n",
        "API specifications can be written in various formats, with OpenAPI Specification (OAS) and RAML (RESTful API Modeling Language) being the most popular. The OpenAPI Specification (formerly known as Swagger) is widely adopted for defining RESTful APIs."
      ],
      "metadata": {
        "id": "MxiD4Wjo85hh"
      }
    },
    {
      "cell_type": "markdown",
      "source": [
        "ques 19-**What are HTTP status codes, and why are they important in a Flask API**\n",
        "\n",
        "Answer-HTTP status codes are three-digit numbers returned by a server to indicate the outcome of an HTTP request. They are a fundamental part of the HTTP protocol, helping clients (such as browsers or API consumers) understand whether their request was successful, if there was an error, or if additional actions are needed.\n",
        "\n",
        "1. Indicate the Outcome of a Request\n",
        "HTTP status codes provide clear signals about the result of an API request:\n",
        "\n",
        "2xx codes indicate successful processing (e.g., 200 OK).\n",
        "\n",
        "4xx codes indicate client-side errors (e.g., 404 Not Found, 400 Bad Request).\n",
        "\n",
        "5xx codes indicate server-side errors (e.g., 500 Internal Server Error).\n",
        "\n",
        "By returning the correct status code, you let the client know if the request was successful or if something went wrong.\n",
        "\n"
      ],
      "metadata": {
        "id": "LqmdgBC_9P3_"
      }
    },
    {
      "cell_type": "markdown",
      "source": [
        "ques 20-**How do you handle POST requests in Flask**\n",
        "\n",
        "Answer-\n",
        " Steps to Handle POST Requests in Flask\n",
        "Here’s how you can handle a POST request in Flask:\n",
        "\n",
        "1.Define the Route for POST Request\n",
        "\n",
        "2.Retrieve Data from the Request\n",
        "\n",
        "3.Process and Store the Data (Optional)\n",
        "\n",
        "4.Return a Response"
      ],
      "metadata": {
        "id": "VpOInT9F-Nqy"
      }
    },
    {
      "cell_type": "markdown",
      "source": [
        "ques 21-**How would you secure a Flask API**\n",
        "\n",
        "Answer-Securing a Flask API is crucial to protect sensitive data, ensure proper authentication, and prevent unauthorized access or malicious attacks. Here are several techniques and best practices to secure a Flask API:\n",
        "\n",
        "1. Use HTTPS (SSL/TLS)\n",
        "Why: HTTP traffic is unencrypted, making it vulnerable to man-in-the-middle (MITM) attacks where attackers can intercept and modify data between the client and server.\n",
        "\n",
        "How to secure: Always use HTTPS instead of HTTP to ensure that data is encrypted.\n",
        "\n",
        "For local development, you can use tools like Flask-SSLify to enforce HTTPS.\n",
        "\n",
        "For production, obtain an SSL certificate from a trusted Certificate Authority (CA) and configure your web server (e.g., Nginx, Apache) to serve HTTPS traffic."
      ],
      "metadata": {
        "id": "uay8BN2t-rWv"
      }
    },
    {
      "cell_type": "markdown",
      "source": [
        "ques 22-**What is the significance of the Flask-RESTful extension**\n",
        "\n",
        "Answer-Flask-RESTful is an extension for Flask that simplifies the process of building RESTful APIs by providing tools for defining resources, handling HTTP methods, and organizing routes more efficiently. It provides several features that make it easier to build, manage, and maintain APIs, making it an essential tool for Flask developers."
      ],
      "metadata": {
        "id": "X2QBxlib_Uny"
      }
    },
    {
      "cell_type": "markdown",
      "source": [
        "ques 23-**What is the role of Flask’s session object?**\n",
        "\n",
        "Answer-Role of Flask’s session Object\n",
        "In Flask, the session object is a special dictionary used to store data that is specific to a user’s session. This allows you to maintain state across multiple requests from the same user. Sessions are typically used to store things like user authentication data, shopping cart contents, or any other information that should persist throughout a user's visit to the website, but not permanently.\n",
        "\n",
        "Unlike cookies, which are stored on the client side (in the user's browser), the session object is stored on the server side by default, though it can be sent to the client as a secure cookie."
      ],
      "metadata": {
        "id": "NP3p5ifh_gbj"
      }
    },
    {
      "cell_type": "markdown",
      "source": [
        "**Practical questions**"
      ],
      "metadata": {
        "id": "aQq_l3IP_5Yn"
      }
    },
    {
      "cell_type": "markdown",
      "source": [
        "ques 1-**How do you create a basic Flask application**"
      ],
      "metadata": {
        "id": "8tSWR7G7AD_R"
      }
    },
    {
      "cell_type": "code",
      "source": [
        "pip install flask\n",
        "from flask import Flask,session\n",
        "\n",
        "\n",
        "# Create an instance of the Flask class\n",
        "app = Flask(__name__)\n",
        "\n",
        "# Define a route for the home page\n",
        "@app.route('/')\n",
        "def home():\n",
        "    return 'Hello, World!'\n",
        "\n",
        "# Run the Flask app\n",
        "if __name__ == '__main__':\n",
        "    app.run(debug=True)\n"
      ],
      "metadata": {
        "colab": {
          "base_uri": "https://localhost:8080/",
          "height": 106
        },
        "id": "eExYGlagAT2I",
        "outputId": "e306b403-84b9-4d3c-b180-6a4306d439d5"
      },
      "execution_count": 4,
      "outputs": [
        {
          "output_type": "error",
          "ename": "SyntaxError",
          "evalue": "invalid syntax (<ipython-input-4-21a14cf08ab5>, line 1)",
          "traceback": [
            "\u001b[0;36m  File \u001b[0;32m\"<ipython-input-4-21a14cf08ab5>\"\u001b[0;36m, line \u001b[0;32m1\u001b[0m\n\u001b[0;31m    pip install flask\u001b[0m\n\u001b[0m        ^\u001b[0m\n\u001b[0;31mSyntaxError\u001b[0m\u001b[0;31m:\u001b[0m invalid syntax\n"
          ]
        }
      ]
    },
    {
      "cell_type": "markdown",
      "source": [
        "ques 2-**How do you serve static files like images or CSS in Flask**\n",
        "\n",
        "Answer-Create a static directory:\n",
        "In the root of your Flask application, create a directory called static. This is where you will place your static files like images, CSS files, JavaScript files, etc.\n",
        "\n",
        "Access Static Files in HTML:\n",
        "You can access the static files using the special URL /static/. Flask automatically maps the /static/ URL to the static folder in your project.\n",
        "\n",
        "For example, in your HTML templates (usually in .html files), you can link to these static files like this:"
      ],
      "metadata": {
        "id": "r9u7DvgbBAJm"
      }
    },
    {
      "cell_type": "markdown",
      "source": [
        "ques 3-**How do you define different routes with different HTTP methods in Flask**"
      ],
      "metadata": {
        "id": "NhT1L3XiCKqT"
      }
    },
    {
      "cell_type": "code",
      "source": [
        "from flask import Flask, request\n",
        "\n",
        "app = Flask(__name__)\n",
        "\n",
        "# Define a route for GET method\n",
        "@app.route('/example', methods=['GET'])\n",
        "def get_example():\n",
        "    return \"This is a GET request\"\n",
        "\n",
        "# Define a route for POST method\n",
        "@app.route('/example', methods=['POST'])\n",
        "def post_example():\n",
        "    data = request.json  # Assuming you're sending JSON data\n",
        "    return f\"Received POST data: {data}\"\n",
        "\n",
        "# Define a route for both GET and POST methods\n",
        "@app.route('/example2', methods=['GET', 'POST'])\n",
        "def example2():\n",
        "    if request.method == 'GET':\n",
        "        return \"This is a GET request for /example2\"\n",
        "    elif request.method == 'POST':\n",
        "        data = request.json\n",
        "        return f\"Received POST data: {data}\"\n",
        "\n",
        "if __name__ == '__main__':\n",
        "    app.run(debug=True)"
      ],
      "metadata": {
        "colab": {
          "base_uri": "https://localhost:8080/"
        },
        "id": "SvBbspX6DA6M",
        "outputId": "e71c5bcf-f976-487a-e07b-50c57d2806c9"
      },
      "execution_count": null,
      "outputs": [
        {
          "output_type": "stream",
          "name": "stdout",
          "text": [
            " * Serving Flask app '__main__'\n",
            " * Debug mode: on\n"
          ]
        },
        {
          "output_type": "stream",
          "name": "stderr",
          "text": [
            "INFO:werkzeug:\u001b[31m\u001b[1mWARNING: This is a development server. Do not use it in a production deployment. Use a production WSGI server instead.\u001b[0m\n",
            " * Running on http://127.0.0.1:5000\n",
            "INFO:werkzeug:\u001b[33mPress CTRL+C to quit\u001b[0m\n",
            "INFO:werkzeug: * Restarting with stat\n"
          ]
        }
      ]
    },
    {
      "cell_type": "markdown",
      "source": [
        "ques 4-**How do you render HTML templates in Flask**\n",
        "\n",
        "Answer-1. Basic Setup\n",
        "You need to have the HTML templates inside a folder named templates in your project directory. Flask will automatically look for templates there.\n",
        "\n",
        "Example of Rendering an HTML Template\n",
        "Project structure:\n",
        "\n",
        "    /templates\n",
        "        index.html\n",
        "    app.py"
      ],
      "metadata": {
        "id": "60cTNvVcDFBy"
      }
    },
    {
      "cell_type": "markdown",
      "source": [],
      "metadata": {
        "id": "MXLyCSP8DPvb"
      }
    },
    {
      "cell_type": "markdown",
      "source": [
        "ques 5-**How can you generate URLs for routes in Flask using url_for**"
      ],
      "metadata": {
        "id": "EHIrTM-0E635"
      }
    },
    {
      "cell_type": "code",
      "source": [
        "from flask import url_for\n",
        "url_for('function_name', **kwargs)\n",
        "from flask import Flask, url_for, redirect\n",
        "\n",
        "app = Flask(__name__)\n",
        "\n",
        "@app.route('/')\n",
        "def home():\n",
        "    return 'Home Page'\n",
        "\n",
        "@app.route('/user/<username>')\n",
        "def profile(username):\n",
        "    return f\"User: {username}\"\n",
        "\n",
        "@app.route('/go-to-profile')\n",
        "def go_to_profile():\n",
        "    # Redirect to the user profile of 'Alice'\n",
        "    return redirect(url_for('profile', username='Alice'))\n",
        "\n",
        "if __name__ == '__main__':\n",
        "    app.run(debug=True)"
      ],
      "metadata": {
        "id": "jtvelPG2A4gO"
      },
      "execution_count": null,
      "outputs": []
    },
    {
      "cell_type": "markdown",
      "source": [
        "ques 6-**M How do you handle forms in Flask**\n",
        "\n",
        "\n",
        "<a href=\"{{ url_for('home') }}\">Home</a>\n",
        "<a href=\"{{ url_for('profile', username='Bob') }}\">Bob's Profile</a>\n",
        "\n",
        "\n",
        "url_for('search', q='flask', page=2)\n"
      ],
      "metadata": {
        "id": "FXN6ZQQiGACx"
      }
    },
    {
      "cell_type": "markdown",
      "source": [
        "ques 7-**How can you validate form data in Flask**"
      ],
      "metadata": {
        "id": "4x5WwmSnGncX"
      }
    },
    {
      "cell_type": "code",
      "source": [
        "rom flask import Flask, request, render_template_string\n",
        "\n",
        "app = Flask(__name__)\n",
        "\n",
        "@app.route('/submit', methods=['GET', 'POST'])\n",
        "def submit():\n",
        "    error = None\n",
        "    if request.method == 'POST':\n",
        "        name = request.form.get('name')\n",
        "        email = request.form.get('email')\n",
        "\n",
        "        if not name or not email:\n",
        "            error = \"Both name and email are required.\"\n",
        "        elif '@' not in email:\n",
        "            error = \"Enter a valid email address.\"\n",
        "        else:\n",
        "            return f\"Form submitted successfully! Hello, {name}.\"\n",
        "\n",
        "    return render_template_string('''\n",
        "        <form method=\"post\">\n",
        "            Name: <input name=\"name\"><br>\n",
        "            Email: <input name=\"email\"><br>\n",
        "            <input type=\"submit\">\n",
        "        </form>\n",
        "        {% if error %}<p style=\"color:red;\">{{ error }}</p>{% endif %}\n",
        "    ''', error=error)\n",
        "\n",
        "if __name__ == '__main__':\n",
        "    app.run(debug=True)"
      ],
      "metadata": {
        "id": "zk4iAUbaHA0e"
      },
      "execution_count": null,
      "outputs": []
    },
    {
      "cell_type": "markdown",
      "source": [
        "ques 8-**How do you manage sessions in Flask**"
      ],
      "metadata": {
        "id": "k5oBeNzlHE6k"
      }
    },
    {
      "cell_type": "code",
      "source": [
        "from flask import Flask, session, redirect, url_for, request\n",
        "\n",
        "app = Flask(__name__)\n",
        "app.secret_key = 'your_secret_key'\n",
        "@app.route('/login', methods=['POST'])\n",
        "def login():\n",
        "    username = request.form['username']\n",
        "    session['user'] = username\n",
        "    return f\"Logged in as {username}\"\n",
        "    @app.route('/profile')\n",
        "def profile():\n",
        "    user = session.get('user')\n",
        "    if user:\n",
        "        return f\"Welcome, {user}\"\n",
        "    return redirect(url_for('login'))\n",
        "    @app.route('/logout')\n",
        "def logout():\n",
        "    session.pop('user', None)\n",
        "    return redirect(url_for('login'))"
      ],
      "metadata": {
        "id": "Bjdr_RA_HU7m"
      },
      "execution_count": null,
      "outputs": []
    },
    {
      "cell_type": "markdown",
      "source": [
        "ques 9-**How do you redirect to a different route in Flask**\n",
        "\n",
        "from flask import redirect, url_for\n",
        "\n",
        "return redirect(url_for('function_name'))"
      ],
      "metadata": {
        "id": "tKBrRYwBHl7E"
      }
    },
    {
      "cell_type": "markdown",
      "source": [
        "ques 10-**How do you handle errors in Flask (e.g., 404)**"
      ],
      "metadata": {
        "id": "PZC7Z1-PH91S"
      }
    },
    {
      "cell_type": "code",
      "source": [
        "from flask import Flask, render_template\n",
        "\n",
        "app = Flask(__name__)\n",
        "\n",
        "@app.errorhandler(404)\n",
        "def page_not_found(e):\n",
        "    return render_template('404.html'), 404"
      ],
      "metadata": {
        "id": "YdRmQs45IMfA"
      },
      "execution_count": null,
      "outputs": []
    },
    {
      "cell_type": "markdown",
      "source": [
        "ques 11-**How do you structure a Flask app using Blueprints**"
      ],
      "metadata": {
        "id": "9KIWPI_7IP-9"
      }
    },
    {
      "cell_type": "code",
      "source": [
        "myapp/\n",
        "├── app.py\n",
        "├── auth/\n",
        "│   ├── __init__.py\n",
        "│   └── routes.py\n",
        "├── blog/\n",
        "│   ├── __init__.py\n",
        "│   └── routes.py\n",
        "└── templates/\n",
        "    ├── auth/\n",
        "    │   └── login.html\n",
        "    └── blog/\n",
        "        └── index.html"
      ],
      "metadata": {
        "id": "vWFmk7r7In1M"
      },
      "execution_count": null,
      "outputs": []
    },
    {
      "cell_type": "markdown",
      "source": [
        "ques 12-**\n",
        "How do you define a custom Jinja filter in Flask**\n",
        "\n",
        "Answer-To define a custom Jinja filter in Flask, you create a regular Python function and then register it with the Jinja environment using app.template_filter() or app.jinja_env.filters.\n",
        "\n"
      ],
      "metadata": {
        "id": "w8hruX1bIqFH"
      }
    },
    {
      "cell_type": "markdown",
      "source": [
        "ques 13-**How can you redirect with query parameters in Flask**"
      ],
      "metadata": {
        "id": "Kz4o0VQ3JAjm"
      }
    },
    {
      "cell_type": "code",
      "source": [
        "redirect(url_for('route_name', key1=value1, key2=value2))"
      ],
      "metadata": {
        "id": "fTgQoL8TIv0g"
      },
      "execution_count": null,
      "outputs": []
    },
    {
      "cell_type": "markdown",
      "source": [
        "ques 14-**How do you return JSON responses in Flask**"
      ],
      "metadata": {
        "id": "Aan1G_mlJRqD"
      }
    },
    {
      "cell_type": "code",
      "source": [
        "from flask import Flask, jsonify\n",
        "\n",
        "app = Flask(__name__)\n",
        "\n",
        "@app.route('/api/data')\n",
        "def get_data():\n",
        "    data = {\"name\": \"Alice\", \"age\": 30}\n",
        "    return jsonify(data)\n",
        "    {\n",
        "  \"name\": \"Alice\",\n",
        "  \"age\": 30\n",
        "}\n"
      ],
      "metadata": {
        "id": "VSs42MmdF8JV"
      },
      "execution_count": null,
      "outputs": []
    },
    {
      "cell_type": "markdown",
      "source": [
        "ques 15-**How do you capture URL parameters in Flask?**"
      ],
      "metadata": {
        "id": "stOO4lEZJrKF"
      }
    },
    {
      "cell_type": "code",
      "source": [
        "from flask import Flask\n",
        "\n",
        "app = Flask(__name__)\n",
        "\n",
        "@app.route('/user/<username>')\n",
        "def show_user(username):\n",
        "    return f\"Hello, {username}!\""
      ],
      "metadata": {
        "id": "uQH8ZsvkJpxS"
      },
      "execution_count": null,
      "outputs": []
    },
    {
      "cell_type": "markdown",
      "source": [],
      "metadata": {
        "id": "ffjPSWVvKQUW"
      }
    }
  ]
}